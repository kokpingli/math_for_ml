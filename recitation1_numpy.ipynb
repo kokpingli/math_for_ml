{
  "nbformat": 4,
  "nbformat_minor": 0,
  "metadata": {
    "colab": {
      "provenance": [],
      "collapsed_sections": [
        "0poUk8PtltFS",
        "o01uTBeVpWCo",
        "GdYMFoVIj20c",
        "6bhAsshZ0tGj",
        "V4lEfMWFkWbd",
        "ag6csLYxSjsv",
        "tkW479j8ToGO",
        "d4KGCGvlkKs1",
        "PonVD0Sdwzqo",
        "dt3Btrf_nFLX",
        "yrpAlt03qASS",
        "1sk-mvyS1CNZ",
        "T_ggoftI3Ssp",
        "gDQAtJ4r6ThA",
        "j9hercBf3DBy",
        "aGu6i4Ciezjb"
      ],
      "include_colab_link": true
    },
    "kernelspec": {
      "name": "python3",
      "display_name": "Python 3"
    },
    "language_info": {
      "name": "python"
    }
  },
  "cells": [
    {
      "cell_type": "markdown",
      "metadata": {
        "id": "view-in-github",
        "colab_type": "text"
      },
      "source": [
        "<a href=\"https://colab.research.google.com/github/kokpingli/math_for_ml/blob/main/recitation1_numpy.ipynb\" target=\"_parent\"><img src=\"https://colab.research.google.com/assets/colab-badge.svg\" alt=\"Open In Colab\"/></a>"
      ]
    },
    {
      "cell_type": "markdown",
      "metadata": {
        "id": "teIMKQED5p2Q"
      },
      "source": []
    },
    {
      "cell_type": "markdown",
      "metadata": {
        "id": "smXcaLWQjbkM"
      },
      "source": [
        "# Recitation 1: An Introduction to Numpy"
      ]
    },
    {
      "cell_type": "markdown",
      "metadata": {
        "id": "0poUk8PtltFS"
      },
      "source": [
        "# Why Numpy?\n",
        "\n",
        "If you are doing any computation in python, it is likely that you will want to use numpy. Not only does numpy provide a lot of functionality, but it is usually much faster than doing things in regular python because it calls fortran and C code.\n",
        "\n",
        "In this colab, we will walk through some basics of numpy. Another great resource that goes into more detail about some of these topics and also has more general python topics is this tutorial from Stanford:\n",
        "https://cs231n.github.io/python-numpy-tutorial/"
      ]
    },
    {
      "cell_type": "code",
      "metadata": {
        "id": "TC2gUMvByxy7"
      },
      "source": [
        "# Import numpy. It is stanard to abbreviate this to np, so you don't have to type out numpy over and over.\n",
        "import numpy as np"
      ],
      "execution_count": 1,
      "outputs": []
    },
    {
      "cell_type": "markdown",
      "metadata": {
        "id": "o01uTBeVpWCo"
      },
      "source": [
        "# The Numpy Array."
      ]
    },
    {
      "cell_type": "markdown",
      "metadata": {
        "id": "FGPjd439kcul"
      },
      "source": [
        "\n",
        "In some sense, the heart and soul behind numpy is the *ndarray* data type. We will first learn how to create an ndarray and what this data type can look like. Later, we will look at interesting things that we can do to ndarrays."
      ]
    },
    {
      "cell_type": "markdown",
      "metadata": {
        "id": "GdYMFoVIj20c"
      },
      "source": [
        "## Types of Arrays"
      ]
    },
    {
      "cell_type": "markdown",
      "metadata": {
        "id": "UlVqfImUlwOx"
      },
      "source": [
        "### The 1d Array"
      ]
    },
    {
      "cell_type": "markdown",
      "metadata": {
        "id": "FnGPtLtb6XDC"
      },
      "source": [
        "One specific type of an ndarray is a 1d array. This is very similar to a list in python. We even instantiate a 1D array almost exactly like a list; the only difference is that we wrap np.array() around the list."
      ]
    },
    {
      "cell_type": "code",
      "metadata": {
        "id": "gtMFZ0wNyuLF",
        "colab": {
          "base_uri": "https://localhost:8080/"
        },
        "outputId": "2addc96f-8ab4-4af8-90f5-8454a53e3e0a"
      },
      "source": [
        "# To make the equivalent array in numpy we simply wrap it with np.array().\n",
        "oned_array = np.array([1., 2., 3.])\n",
        "print(oned_array)"
      ],
      "execution_count": 2,
      "outputs": [
        {
          "output_type": "stream",
          "name": "stdout",
          "text": [
            "[1. 2. 3.]\n"
          ]
        }
      ]
    },
    {
      "cell_type": "markdown",
      "metadata": {
        "id": "56cU0IgBmCur"
      },
      "source": [
        "### The 2d Array (AKA Matrices and Vectors)\n",
        "\n"
      ]
    },
    {
      "cell_type": "markdown",
      "metadata": {
        "id": "7ZJZBe996Zlj"
      },
      "source": [
        "2d arrays correspond with matrices in math because they are kind of like lists but with rows and columns. We can instantiate a 2d array by calling np.array on a list of lists. Be careful that each inner list has the same size or else the array will not get constructed properly!"
      ]
    },
    {
      "cell_type": "code",
      "metadata": {
        "id": "YQEjq0Kn0Asx",
        "colab": {
          "base_uri": "https://localhost:8080/"
        },
        "outputId": "22ff78ed-9ffa-48a1-d5c6-62747207492d"
      },
      "source": [
        "# An example of a 3x3 matrix.\n",
        "mat = np.array([[1., 2., 3.], [4., 5., 6.], [7., 8., 9.]])\n",
        "print('A 3x3 matrix:')\n",
        "print(mat)"
      ],
      "execution_count": 3,
      "outputs": [
        {
          "output_type": "stream",
          "name": "stdout",
          "text": [
            "A 3x3 matrix:\n",
            "[[1. 2. 3.]\n",
            " [4. 5. 6.]\n",
            " [7. 8. 9.]]\n"
          ]
        }
      ]
    },
    {
      "cell_type": "markdown",
      "metadata": {
        "id": "aUSeOJLQ41vR"
      },
      "source": [
        "\n",
        "One thing to be careful of is that vectors, as we usually think of them in math, are actually 2d arrays (either nx1 or 1xn). Vectors written as 1D arrays instead of 2d arrays can often cause bugs!"
      ]
    },
    {
      "cell_type": "code",
      "metadata": {
        "id": "uBnbJQvm44ri",
        "colab": {
          "base_uri": "https://localhost:8080/"
        },
        "outputId": "d8c7761d-78a2-41ec-d860-5fea4eb04b56"
      },
      "source": [
        "# Note that 1D arrays are not vectors as we would think of them in math.\n",
        "# They are 2D arrays with 1 column i.e.\n",
        "vect = np.array([[1.], [2.], [3.]])\n",
        "print('A 3x1 matrix (aka vectory of length 3):')\n",
        "print(vect)"
      ],
      "execution_count": 4,
      "outputs": [
        {
          "output_type": "stream",
          "name": "stdout",
          "text": [
            "A 3x1 matrix (aka vectory of length 3):\n",
            "[[1.]\n",
            " [2.]\n",
            " [3.]]\n"
          ]
        }
      ]
    },
    {
      "cell_type": "markdown",
      "metadata": {
        "id": "TBFeEAPVnK55"
      },
      "source": [
        "### The ndarray"
      ]
    },
    {
      "cell_type": "markdown",
      "metadata": {
        "id": "7CjV5fji6c_g"
      },
      "source": [
        "The ndarray corresponds with tensors in math. Don't worry if you haven't seen tensors before, but they are an n-dimensional extension of matrices. The highest dimensional ndarray we can visualize is the 3d-array. It can be thought of many matrices of the same size stack on top of each other. In other words, if a matrix is a square/rectangle then a 3d array is a cube/rectangular prism. Below is an image ([source](https://towardsdatascience.com/mastering-tensorflow-tensors-in-5-easy-steps-35f21998bb86)) showing a rank-1 tensor (1d array), rank-2 tensor (2d array), and rank-3 tensor (3d array).\n",
        "\n",
        "![image.png](https://miro.medium.com/max/1260/1*W6s_CPw3y2K9S2cgYpLaBQ.png)\n",
        "\n",
        "To make a 3d array we call np.array on a list of nested lists."
      ]
    },
    {
      "cell_type": "code",
      "metadata": {
        "id": "E6eLyadq4TY-",
        "colab": {
          "base_uri": "https://localhost:8080/"
        },
        "outputId": "85e068ff-da28-4b9b-b709-bcadbb66375e"
      },
      "source": [
        "tensor = np.array([[[1., 2.,], [3., 4.]],\n",
        "                   [[5., 6.], [7., 8.]],\n",
        "                   [[9., 10.], [11., 12.]]])\n",
        "print('A 3x2x2 tensor:')\n",
        "print(tensor)"
      ],
      "execution_count": 5,
      "outputs": [
        {
          "output_type": "stream",
          "name": "stdout",
          "text": [
            "A 3x2x2 tensor:\n",
            "[[[ 1.  2.]\n",
            "  [ 3.  4.]]\n",
            "\n",
            " [[ 5.  6.]\n",
            "  [ 7.  8.]]\n",
            "\n",
            " [[ 9. 10.]\n",
            "  [11. 12.]]]\n"
          ]
        }
      ]
    },
    {
      "cell_type": "markdown",
      "metadata": {
        "id": "6bhAsshZ0tGj"
      },
      "source": [
        "### ndarray Shape\n",
        "\n",
        "An important property of the ndarray is the shape. The shape is is a tuple of length $n$ for an ndarray which describes the dimensions of the array. For example, a matrix with three rows and two columns would have shape (3, 2).\n",
        "\n",
        "One might expect using len on an ndarray would return the number of elements in the array. However, this is not always the case. It instead returns the leftmost number in the shape. For 2darrays this is the number of rows.\n",
        "\n",
        "Below is code to show the shape and len of each ndarray we looked at above."
      ]
    },
    {
      "cell_type": "code",
      "metadata": {
        "id": "Y5x1knFI8AR_",
        "colab": {
          "base_uri": "https://localhost:8080/"
        },
        "outputId": "29d5fb37-8eeb-40ff-9770-d970346d3ae5"
      },
      "source": [
        "print(f'The 1D array we defined has shape {oned_array.shape} and length {len(oned_array)}.')\n",
        "print(f'The matrix we defined has shape {mat.shape} and length {len(mat)}.')\n",
        "print(f'The vector we defined has shape {vect.shape} and length {len(vect)}.')\n",
        "print(f'The tensor we defined has shape {tensor.shape} and length {len(tensor)}.')"
      ],
      "execution_count": 6,
      "outputs": [
        {
          "output_type": "stream",
          "name": "stdout",
          "text": [
            "The 1D array we defined has shape (3,) and length 3.\n",
            "The matrix we defined has shape (3, 3) and length 3.\n",
            "The vector we defined has shape (3, 1) and length 3.\n",
            "The tensor we defined has shape (3, 2, 2) and length 3.\n"
          ]
        }
      ]
    },
    {
      "cell_type": "markdown",
      "metadata": {
        "id": "z4RPo5wanddx"
      },
      "source": [
        "### Other ways of creating ndarrays.\n",
        "\n",
        "Creating ndarrays by calling np.array on nested lists can become tedius. Here are some other ways of quickly creating some standard ndarrays."
      ]
    },
    {
      "cell_type": "code",
      "metadata": {
        "id": "MvA_3uq7A66p",
        "colab": {
          "base_uri": "https://localhost:8080/"
        },
        "outputId": "7fc3ca45-4dfb-4bd1-8f7a-bec4641a5e2e"
      },
      "source": [
        "# arange is much like standard python \"range\" but makes a 1D array of integers.\n",
        "print(' np.arange(5) =', np.arange(5))\n",
        "\n",
        "# linspace creates a 1D array of floats by separating some range of numbers evenly.\n",
        "#   * The first argument is the start of the range.\n",
        "#   * The second argument is the end of the range to consider.\n",
        "#   * The third argument is the number of elements to fill the array with.\n",
        "print('\\n np.linspace(1, 2, 8) =', np.linspace(1, 2, 5))\n",
        "\n",
        "# zeros creates a ndarray with all 0 elements. It takes the shape of the ndarray\n",
        "# that we want to produce.\n",
        "print('\\n Example of 1D array with all zeros: np.zeros((3,)) = ', np.zeros((3,)))\n",
        "print('\\n Example of 2D array with all zeros: np.zeros((3, 2)) = ...')\n",
        "print(np.zeros((3, 2)))\n",
        "\n",
        "# ones creates a ndarray with all 1 elements. It takes the shape of the ndarray\n",
        "# that we want to produce.\n",
        "print('\\n Example of 1D array with all zeros: np.ones((3,)) = ', np.ones((3,)))\n",
        "print('\\n Example of 2D array with all zeros: np.ones((3, 2)) = ...')\n",
        "print(np.ones((3, 2)))\n"
      ],
      "execution_count": 7,
      "outputs": [
        {
          "output_type": "stream",
          "name": "stdout",
          "text": [
            " np.arange(5) = [0 1 2 3 4]\n",
            "\n",
            " np.linspace(1, 2, 8) = [1.   1.25 1.5  1.75 2.  ]\n",
            "\n",
            " Example of 1D array with all zeros: np.zeros((3,)) =  [0. 0. 0.]\n",
            "\n",
            " Example of 2D array with all zeros: np.zeros((3, 2)) = ...\n",
            "[[0. 0.]\n",
            " [0. 0.]\n",
            " [0. 0.]]\n",
            "\n",
            " Example of 1D array with all zeros: np.ones((3,)) =  [1. 1. 1.]\n",
            "\n",
            " Example of 2D array with all zeros: np.ones((3, 2)) = ...\n",
            "[[1. 1.]\n",
            " [1. 1.]\n",
            " [1. 1.]]\n"
          ]
        }
      ]
    },
    {
      "cell_type": "markdown",
      "metadata": {
        "id": "OJtugy7prIZZ"
      },
      "source": [
        "## Reshaping Arrays\n"
      ]
    },
    {
      "cell_type": "markdown",
      "metadata": {
        "id": "V4lEfMWFkWbd"
      },
      "source": [
        "### The Reshape Function\n",
        "\n",
        "One cool thing about ndarrays is that once you initialize one you can change the shape with the \"reshape\" method! You can even do things like change a 1d array into a 3d array.\n",
        "\n",
        "Reasoning about how exactly an array will be reshaped is a bit tricky. Below is an example of a 1d array being transformed into a 2d array (taken from here [link text](https://towardsdatascience.com/reshaping-numpy-arrays-in-python-a-step-by-step-pictorial-tutorial-aed5f471cf0b). This blog post has some great resources on reshaping arrays).\n",
        "\n",
        "![image.png](https://miro.medium.com/max/977/1*16lfH-A_kiDmyxe1Sm2dQA.png)\n",
        "\n",
        "a1.reshape((3, 4))\n",
        "\n",
        "![image.png](https://miro.medium.com/max/362/1*b0Eh1M1w4d9gKIhN8Fdjcg.png)\n",
        "\n",
        "\n",
        "Here are some more examples in code of using reshape:"
      ]
    },
    {
      "cell_type": "code",
      "metadata": {
        "id": "JN1_CQ9bOuCe",
        "colab": {
          "base_uri": "https://localhost:8080/"
        },
        "outputId": "9d0eaca3-268d-4ec7-b39f-fd8342cf5f8f"
      },
      "source": [
        "arr = np.arange(8) # Create a 1d array o shape (8,)\n",
        "print(f'Array as a 1d array with shape {arr.shape}:')\n",
        "print(arr)\n",
        "# Reshape to a 2d array. A couple things to keep in mind:\n",
        "#   * The number of elements in the array must be compatible with the new shape.\n",
        "#   * Calling reshape will return a new array. We must assign arr to the output.\n",
        "arr = arr.reshape((4, 2))\n",
        "print(f'After reshaping to 2d array with shape {arr.shape}:')\n",
        "print(arr)\n",
        "# Reshape to a 3d array.\n",
        "arr = arr.reshape((2, 2, 2))\n",
        "print(f'After reshaping to 3d array with shape {arr.shape}:')\n",
        "print(arr)"
      ],
      "execution_count": 8,
      "outputs": [
        {
          "output_type": "stream",
          "name": "stdout",
          "text": [
            "Array as a 1d array with shape (8,):\n",
            "[0 1 2 3 4 5 6 7]\n",
            "After reshaping to 2d array with shape (4, 2):\n",
            "[[0 1]\n",
            " [2 3]\n",
            " [4 5]\n",
            " [6 7]]\n",
            "After reshaping to 3d array with shape (2, 2, 2):\n",
            "[[[0 1]\n",
            "  [2 3]]\n",
            "\n",
            " [[4 5]\n",
            "  [6 7]]]\n"
          ]
        }
      ]
    },
    {
      "cell_type": "markdown",
      "metadata": {
        "id": "cG_OkWlzRZT_"
      },
      "source": [
        "One neat trick is that we can put a -1 in one spot and numpy will infer what value must be in that spot e.g...\n"
      ]
    },
    {
      "cell_type": "code",
      "metadata": {
        "id": "Q_A7CyJjRFnA",
        "colab": {
          "base_uri": "https://localhost:8080/"
        },
        "outputId": "f787a097-b0fb-4212-98dd-8250e14590aa"
      },
      "source": [
        "# The first spot must be a 2 since 8 / 4 = 2\n",
        "arr = arr.reshape((2, -1))\n",
        "print(f'First shape = {arr.shape}')\n",
        "# The second spot must be a 2 since 8 / 2 / 2 = 2\n",
        "arr = arr.reshape((2, -1, 2))\n",
        "print(f'Second shape = {arr.shape}')\n",
        "# This is especially useful for making vectors where you don't necessarily know\n",
        "# how many elements are in the array e.g.\n",
        "arr = arr.reshape((-1, 1))\n",
        "print(f'Thrid shape = {arr.shape}')"
      ],
      "execution_count": 9,
      "outputs": [
        {
          "output_type": "stream",
          "name": "stdout",
          "text": [
            "First shape = (2, 4)\n",
            "Second shape = (2, 2, 2)\n",
            "Thrid shape = (8, 1)\n"
          ]
        }
      ]
    },
    {
      "cell_type": "markdown",
      "metadata": {
        "id": "ag6csLYxSjsv"
      },
      "source": [
        "### The Flatten Function\n",
        "\n",
        "The function \"flatten\" will reshape the array back into a 1d array."
      ]
    },
    {
      "cell_type": "code",
      "metadata": {
        "id": "Y1Z2_ZzuSgu8",
        "colab": {
          "base_uri": "https://localhost:8080/"
        },
        "outputId": "1eced465-40d3-42c5-bfe7-4e391b4e1dc6"
      },
      "source": [
        "# Note that flatten also returns a new array that we need to assign to arr like reshape.\n",
        "arr = arr.flatten()\n",
        "print('The flatenned array: ')\n",
        "print(arr)"
      ],
      "execution_count": 10,
      "outputs": [
        {
          "output_type": "stream",
          "name": "stdout",
          "text": [
            "The flatenned array: \n",
            "[0 1 2 3 4 5 6 7]\n"
          ]
        }
      ]
    },
    {
      "cell_type": "markdown",
      "metadata": {
        "id": "tkW479j8ToGO"
      },
      "source": [
        "### Transposing\n",
        "\n",
        "Lastly, we can put a .T after a matrix in order to take the transpose. Note, that reshaping a mxn matrix into an nxm matrix will not produce the same thing as taking the transpose!"
      ]
    },
    {
      "cell_type": "code",
      "metadata": {
        "id": "qougROjwSeg5",
        "colab": {
          "base_uri": "https://localhost:8080/"
        },
        "outputId": "a36e5494-04d4-4f77-9424-307680208132"
      },
      "source": [
        "mat = np.arange(1, 13).reshape(4, 3)\n",
        "print('The original matrix:')\n",
        "print(mat)\n",
        "print('The transpose of the matrix:')\n",
        "print(mat.T)\n",
        "print('Reshaping the matrix to (3, 4)')\n",
        "print(mat.reshape(3, 4))"
      ],
      "execution_count": 11,
      "outputs": [
        {
          "output_type": "stream",
          "name": "stdout",
          "text": [
            "The original matrix:\n",
            "[[ 1  2  3]\n",
            " [ 4  5  6]\n",
            " [ 7  8  9]\n",
            " [10 11 12]]\n",
            "The transpose of the matrix:\n",
            "[[ 1  4  7 10]\n",
            " [ 2  5  8 11]\n",
            " [ 3  6  9 12]]\n",
            "Reshaping the matrix to (3, 4)\n",
            "[[ 1  2  3  4]\n",
            " [ 5  6  7  8]\n",
            " [ 9 10 11 12]]\n"
          ]
        }
      ]
    },
    {
      "cell_type": "markdown",
      "metadata": {
        "id": "1RkI2fi1p5nK"
      },
      "source": [
        "### Exercises"
      ]
    },
    {
      "cell_type": "markdown",
      "metadata": {
        "id": "Zicb4NQuNJWl"
      },
      "source": [
        "Give three different ways we can make a 3x3 matrix of all 1s."
      ]
    },
    {
      "cell_type": "code",
      "metadata": {
        "id": "e4qjmSWmNZMT",
        "colab": {
          "base_uri": "https://localhost:8080/"
        },
        "outputId": "53842ef9-6d18-4961-e9a6-13b3ceabf319"
      },
      "source": [
        "# Method 1:\n",
        "mat = np.array([[1., 1., 1.], [1., 1., 1.], [1., 1., 1]])\n",
        "print(mat)\n",
        "\n",
        "# Method 2:\n",
        "mat = np.ones((3,3))\n",
        "print(mat)\n",
        "\n",
        "# Method 3:\n",
        "mat = np.array([np.linspace(1,1,3), np.linspace(1,1,3), np.linspace(1,1,3)])\n",
        "print(mat)"
      ],
      "execution_count": 24,
      "outputs": [
        {
          "output_type": "stream",
          "name": "stdout",
          "text": [
            "[[1. 1. 1.]\n",
            " [1. 1. 1.]\n",
            " [1. 1. 1.]]\n",
            "[[1. 1. 1.]\n",
            " [1. 1. 1.]\n",
            " [1. 1. 1.]]\n",
            "[[1. 1. 1.]\n",
            " [1. 1. 1.]\n",
            " [1. 1. 1.]]\n"
          ]
        }
      ]
    },
    {
      "cell_type": "markdown",
      "metadata": {
        "id": "2F54ih43WLEw"
      },
      "source": [
        "For each of the following arrays below, which transformation will make \"start\" match \"end\""
      ]
    },
    {
      "cell_type": "code",
      "metadata": {
        "id": "6SkX5iSGWfeK",
        "colab": {
          "base_uri": "https://localhost:8080/"
        },
        "outputId": "fa752964-2d20-4fdb-bfdf-3c5ccc0c99d8"
      },
      "source": [
        "\"\"\"Question 1\"\"\"\n",
        "start = np.array([2, 10, 2, 6]).reshape(2,2)\n",
        "end = np.array([[2, 10], [2, 6]])\n",
        "# YOUR WORK TO TRANSFORM START HERE\n",
        "\n",
        "assert start.shape == end.shape and np.allclose(start, end, atol=1e-6), 'Question 1 Incorrect.'\n",
        "\n",
        "\"\"\"Question 2\"\"\"\n",
        "start = np.array([[5, 2], [1, 3]]).T\n",
        "end = np.array([[5, 1], [2, 3]])\n",
        "# YOUR WORK TO TRANSFORM START HERE\n",
        "\n",
        "assert start.shape == end.shape and np.allclose(start, end, atol=1e-6), 'Question 2 Incorrect.'\n",
        "\n",
        "\"\"\"Question 3\"\"\"\n",
        "start = np.array([[1, 2, 3]]).flatten()\n",
        "end = np.array([1, 2, 3])\n",
        "# YOUR WORK TO TRANSFORM START HERE\n",
        "\n",
        "assert start.shape == end.shape and np.abs(np.sum(start - end)) < 1e-6, 'Question 3 Incorrect.'\n",
        "\n",
        "print('SUCCESS!')"
      ],
      "execution_count": 33,
      "outputs": [
        {
          "output_type": "stream",
          "name": "stdout",
          "text": [
            "SUCCESS!\n"
          ]
        }
      ]
    },
    {
      "cell_type": "markdown",
      "metadata": {
        "id": "mAMQqag-N1Hf"
      },
      "source": [
        "Instantiate a 2x2 array so that when flatten is called on it, it returns the 1d array [5, 2, 3 6]"
      ]
    },
    {
      "cell_type": "code",
      "metadata": {
        "id": "QgSwo1YjOKrd",
        "colab": {
          "base_uri": "https://localhost:8080/"
        },
        "outputId": "5e1e2783-6c91-4f1f-86ec-a3e84eea0739"
      },
      "source": [
        "answer = np.array([[5, 2], [3, 6]])\n",
        "\n",
        "print(answer)\n",
        "print(answer.flatten())"
      ],
      "execution_count": 35,
      "outputs": [
        {
          "output_type": "stream",
          "name": "stdout",
          "text": [
            "[[5 2]\n",
            " [3 6]]\n",
            "[5 2 3 6]\n"
          ]
        }
      ]
    },
    {
      "cell_type": "markdown",
      "metadata": {
        "id": "4N5OhbRrP0zW"
      },
      "source": [
        "Using a series of operations take the matrix\n",
        "\\begin{bmatrix}\n",
        "1 & 2 & 3 & 4 & 5 & 6 \\\\\n",
        "7 & 8 & 9 & 10 & 11 & 12\n",
        "\\end{bmatrix}\n",
        "and ends up at the matrix.\n",
        "\\begin{bmatrix}\n",
        "1 & 4 & 7 & 10 \\\\\n",
        "2 & 5 & 8 & 11 \\\\\n",
        "3 & 6 & 9 & 12 \\\\\n",
        "\\end{bmatrix}"
      ]
    },
    {
      "cell_type": "code",
      "metadata": {
        "id": "1TTiYR5KRGzI",
        "colab": {
          "base_uri": "https://localhost:8080/"
        },
        "outputId": "3f851892-0de6-4e7d-f3c7-26d6daa4991c"
      },
      "source": [
        "start = np.arange(1, 13).reshape((2, 6))\n",
        "\n",
        "end = start.reshape((4,3)).T\n",
        "\n",
        "print(end)"
      ],
      "execution_count": 40,
      "outputs": [
        {
          "output_type": "stream",
          "name": "stdout",
          "text": [
            "[[ 1  4  7 10]\n",
            " [ 2  5  8 11]\n",
            " [ 3  6  9 12]]\n"
          ]
        }
      ]
    },
    {
      "cell_type": "markdown",
      "metadata": {
        "id": "iNH1nZUFSqy9"
      },
      "source": [
        "Write a function that checks if a given array can be reshaped into a 3d array with shape (3, 5, 2) without using the reshape function and returns True or False."
      ]
    },
    {
      "cell_type": "code",
      "metadata": {
        "id": "HZoN-DkJSp8k"
      },
      "source": [
        "def can_reshape(arr):\n",
        "  # YOUR WORK HERE\n",
        "  pass\n",
        "\n",
        "if not can_reshape(np.arange(30)):\n",
        "  print('Incorrect.')\n",
        "elif not can_reshape(np.ones((5, 3, 2))):\n",
        "  print('Incorrect.')\n",
        "elif can_reshape(np.ones((3, 2, 6))):\n",
        "  print('Incorrect.')\n",
        "elif can_reshape(np.zeros((4, 5))):\n",
        "  print('Incorrect.')\n",
        "else:\n",
        "  print('Correct!')"
      ],
      "execution_count": null,
      "outputs": []
    },
    {
      "cell_type": "markdown",
      "metadata": {
        "id": "OdLv1SvHpaUy"
      },
      "source": [
        "## Indexing Arrays"
      ]
    },
    {
      "cell_type": "markdown",
      "metadata": {
        "id": "ebqQECsvwhnZ"
      },
      "source": [
        "There are many complex ways of indexing ndarrays but we will go over the basics here."
      ]
    },
    {
      "cell_type": "markdown",
      "metadata": {
        "id": "d4KGCGvlkKs1"
      },
      "source": [
        "### Getting a Single Element\n",
        "\n",
        "We will now walk through how to access particular elements of arrays. The easiest version of this is getting a single number from an ndarray. Like with python lists, we use a square bracket after the array to indicate the index of the element we would like. However, if we are using an ndarray, we must provide $n$ elements. Here are some examples of this:"
      ]
    },
    {
      "cell_type": "code",
      "metadata": {
        "id": "srxuDrrBWtWM"
      },
      "source": [
        "oned = np.arange(4)\n",
        "print('1d array:')\n",
        "print(oned)\n",
        "print('The element at index 3 is ', oned[3])\n",
        "\n",
        "twod = np.arange(9).reshape(3, 3)\n",
        "print('\\n2d array:')\n",
        "print(twod)\n",
        "print('The element at index (1,2) is ', twod[1, 2])\n",
        "\n",
        "threed = np.arange(8).reshape(2, 2, 2)\n",
        "print('\\n3d array:')\n",
        "print(threed)\n",
        "print('The element at index (0,1,0) is ', threed[0, 1, 0])"
      ],
      "execution_count": null,
      "outputs": []
    },
    {
      "cell_type": "markdown",
      "metadata": {
        "id": "PonVD0Sdwzqo"
      },
      "source": [
        "### Getting Multiple Elements\n",
        "\n",
        "ndarrays also allow for providing lists of indices. We can provide a list of the same length for every dimension, and numpy will construct a 1d array of the selected elements. Here's how it works below:"
      ]
    },
    {
      "cell_type": "code",
      "metadata": {
        "id": "hnrkrF59yFXD"
      },
      "source": [
        "oned = np.arange(4)\n",
        "print('1d array:')\n",
        "print(oned)\n",
        "print('The elements at index 1 and 3 are ', oned[[1, 3]])\n",
        "\n",
        "twod = np.arange(9).reshape(3, 3)\n",
        "print('\\n2d array:')\n",
        "print(twod)\n",
        "print('The elements at index (1,2), (2, 2) and (0, 0) are ', twod[[1, 2, 0], [2, 2, 0]])\n",
        "\n",
        "threed = np.arange(8).reshape(2, 2, 2)\n",
        "print('\\n3d array:')\n",
        "print(threed)\n",
        "print('The elements at index (0,1,0) and (1, 1, 1) are ', threed[[0, 1], [1, 1], [0, 1]])"
      ],
      "execution_count": null,
      "outputs": []
    },
    {
      "cell_type": "markdown",
      "metadata": {
        "id": "dt3Btrf_nFLX"
      },
      "source": [
        "### Slicing\n",
        "\n",
        "Like python lists, we can slice but in multiple dimensions. Instead of providing a single index of a dimension in the ndarray, we can provide an $a$:$b$ range, where $a$ and $b$ are indices. If $a$ is not provided (i.e. :$b$) then it is treated as the start up to $b$. If $b$ is not provided (i.e. $a$:) then it is treated as index $a$ to the end. If we just put :, then we select all of the elements for that dimension.\n",
        "\n",
        "When a single index is provided for a dimension that dimension is removed, but if a slice is provided that dimension is kept. To illuminate this point, we can enumerate over the different possibilities in a 2d array."
      ]
    },
    {
      "cell_type": "code",
      "metadata": {
        "id": "3D8Gb-H5q06v"
      },
      "source": [
        "A = np.arange(9).reshape(3, 3)\n",
        "print('The matrix A is: ')\n",
        "print(A)\n",
        "\n",
        "# Slicing for both dimensions. Chop off the first column and the last row.\n",
        "print('\\n Selecting A[:2, 1:]...')\n",
        "print('The shape is ', A[:2, 1:].shape)\n",
        "print(A[:2, 1:])\n",
        "\n",
        "# Slicing for one dimension. Pick out the column at index 1.\n",
        "print('\\n Selecting A[:, 1]...')\n",
        "print('The shape is ', A[:, 1].shape)\n",
        "print(A[:, 1])\n",
        "\n",
        "# Select a single element:\n",
        "print('\\n Selecting A[2, 1]...')\n",
        "print('The return is no longer an ndarray! It is a ', type(A[2, 1]))\n",
        "print(A[2, 1])"
      ],
      "execution_count": null,
      "outputs": []
    },
    {
      "cell_type": "markdown",
      "metadata": {
        "id": "_bVSjVToyp7B"
      },
      "source": [
        "We can also combine slicing with lists of indices to pick out multiple rows or columns."
      ]
    },
    {
      "cell_type": "code",
      "metadata": {
        "id": "OcLM-XAP0HQC"
      },
      "source": [
        "A = np.arange(9).reshape(3, 3)\n",
        "print('The matrix A is: ')\n",
        "print(A)\n",
        "\n",
        "# Get the first and last rows.\n",
        "print('\\n The first and last rows are')\n",
        "print(A[[0, 2], :])\n",
        "\n",
        "# Get the first and last columns.\n",
        "print('\\n The first and last columns are')\n",
        "print(A[:, [0, 2]])"
      ],
      "execution_count": null,
      "outputs": []
    },
    {
      "cell_type": "markdown",
      "metadata": {
        "id": "h_O8-2BjcKDW"
      },
      "source": [
        "### Exercises"
      ]
    },
    {
      "cell_type": "markdown",
      "metadata": {
        "id": "ofGEWx3ScXYS"
      },
      "source": [
        "Select all of the even numbers in the following arrays."
      ]
    },
    {
      "cell_type": "code",
      "metadata": {
        "id": "fqUntwKEcSaq"
      },
      "source": [
        "\"\"\"Question 1\"\"\"\n",
        "arr1 = np.arange(1, 8)\n",
        "evens = ... # YOUR WORK HERE\n",
        "print(evens)\n",
        "\n",
        "\"\"\"Question 2\"\"\"\n",
        "arr2 = np.array([[2, 55, 3],\n",
        "                 [93, 11, 4],\n",
        "                 [1, 1, 1],\n",
        "                 [3, 6, 8]])\n",
        "evens = ... # YOUR WORK HERE\n",
        "print(evens)"
      ],
      "execution_count": null,
      "outputs": []
    },
    {
      "cell_type": "markdown",
      "metadata": {
        "id": "-fQhzkLPd_6C"
      },
      "source": [
        "Select all rows in the matrix that have at least 1."
      ]
    },
    {
      "cell_type": "code",
      "metadata": {
        "id": "vE-DrxwceeX9"
      },
      "source": [
        "mat = np.array([[0, 0, 0, 0, 0],\n",
        "                [0, 1, 0, 0, 0],\n",
        "                [0, 0, 0, 0, 1],\n",
        "                [0, 0, 0, 0, 0]])\n",
        "rows = ... # YOUR WORK HERE\n",
        "print(rows)"
      ],
      "execution_count": null,
      "outputs": []
    },
    {
      "cell_type": "markdown",
      "metadata": {
        "id": "uoBmWEIseZeI"
      },
      "source": [
        "Select all columns in the matrix that have at least one 1."
      ]
    },
    {
      "cell_type": "code",
      "metadata": {
        "id": "4SRrGQNcefM5"
      },
      "source": [
        "mat = np.array([[0, 0, 0, 0, 0],\n",
        "                [0, 1, 0, 0, 0],\n",
        "                [0, 0, 0, 0, 1],\n",
        "                [0, 0, 0, 0, 0]])\n",
        "rows = ... # YOUR WORK HERE\n",
        "print(rows)"
      ],
      "execution_count": null,
      "outputs": []
    },
    {
      "cell_type": "markdown",
      "metadata": {
        "id": "QgxBC9H1gFId"
      },
      "source": [
        "For the following, give the shape of the array of indexing."
      ]
    },
    {
      "cell_type": "code",
      "metadata": {
        "id": "bcIVRlmyg6-j"
      },
      "source": [
        "\"\"\"Question 1\"\"\"\n",
        "q1 = np.arange(16).reshape(4, 4)\n",
        "q1 = q1[:, [3, 2]]\n",
        "shape = ... # YOUR ANSWER HERE IN TUPLE FORM\n",
        "assert q1.shape == shape, 'Question 1 Incorrect.'\n",
        "\n",
        "\"\"\"Question 2\"\"\"\n",
        "q2 = np.arange(16).reshape(4, 4)\n",
        "q2 = q2[[1, 2], [3, 2]]\n",
        "shape = ... # YOUR ANSWER HERE IN TUPLE FORM\n",
        "assert q2.shape == shape, 'Question 2 Incorrect.'\n",
        "\n",
        "\"\"\"Question 3\"\"\"\n",
        "q3 = np.arange(27).reshape(3, 3, 3)\n",
        "q3 = q3[:2, :, 0]\n",
        "shape = ... # YOUR ANSWER HERE IN TUPLE FORM\n",
        "assert q3.shape == shape, 'Question 3 Incorrect.'\n",
        "\n",
        "\"\"\"Question 3\"\"\"\n",
        "q4 = np.arange(16).reshape(4, 4)\n",
        "q4 = q4[:, [1]]\n",
        "shape = ... # YOUR ANSWER HERE IN TUPLE FORM\n",
        "assert q4.shape == shape, 'Question 4 Incorrect.'\n",
        "\n",
        "print('Success!')"
      ],
      "execution_count": null,
      "outputs": []
    },
    {
      "cell_type": "markdown",
      "metadata": {
        "id": "yrpAlt03qASS"
      },
      "source": [
        "# Numpy Operations"
      ]
    },
    {
      "cell_type": "markdown",
      "metadata": {
        "id": "1sk-mvyS1CNZ"
      },
      "source": [
        "## Basic Math"
      ]
    },
    {
      "cell_type": "markdown",
      "metadata": {
        "id": "Fj_laIDf2AWc"
      },
      "source": [
        "A lot of basic math operations involving an ndarray and a number will work as one would expect. This works with 1d arrays, 2d arrays, 3d arrays, etc, but I will show some examples with 2d arrays below:"
      ]
    },
    {
      "cell_type": "code",
      "metadata": {
        "id": "HZXqp8vj2LGh"
      },
      "source": [
        "A = np.arange(4).reshape(2, 2)\n",
        "print('The matrix A is: ')\n",
        "print(A)\n",
        "\n",
        "# If we want to add 2 to all elements of the matrix:\n",
        "print('\\n A + 2 = ')\n",
        "print(A + 2)\n",
        "\n",
        "# If we want to multiply all elements by 3:\n",
        "print('\\n A * 3 = ')\n",
        "print(A * 3)\n",
        "\n",
        "# If we want to divide all elements by 2:\n",
        "print('\\n A / 2 = ')\n",
        "print(A / 2)\n",
        "\n",
        "# If we want to square all elements:\n",
        "print('\\n A ** 2 = ')\n",
        "print(A ** 2)"
      ],
      "execution_count": null,
      "outputs": []
    },
    {
      "cell_type": "markdown",
      "metadata": {
        "id": "-M94rhWm1En4"
      },
      "source": [
        "## ndarray Math"
      ]
    },
    {
      "cell_type": "markdown",
      "metadata": {
        "id": "T_ggoftI3Ssp"
      },
      "source": [
        "### Element-Wise Operations"
      ]
    },
    {
      "cell_type": "markdown",
      "metadata": {
        "id": "Mt7LQ50T3pPp"
      },
      "source": [
        "If two ndarrays have the same shape, we can do standard mathematical operations between them and the result will be an ndarray where the operation has been applied for each element, i.e. (A * B)\\[i, j] =  A\\[i, j] * B\\[i, j]"
      ]
    },
    {
      "cell_type": "code",
      "metadata": {
        "id": "JAWlQtKK4Mqr"
      },
      "source": [
        "A = np.arange(4).reshape(2, 2)\n",
        "print('The matrix A is: ')\n",
        "print(A)\n",
        "\n",
        "B = np.array([[1, 1], [2, 2]])\n",
        "print('The matrix B is: ')\n",
        "print(B)\n",
        "\n",
        "print('\\n A + B = ')\n",
        "print(A + B)\n",
        "\n",
        "print('\\n A * B =')\n",
        "print(A * B)\n",
        "\n",
        "print('\\n A / B = ')\n",
        "print(A / B)\n",
        "\n",
        "print('\\n A ** B = ')\n",
        "print(A ** B)"
      ],
      "execution_count": null,
      "outputs": []
    },
    {
      "cell_type": "markdown",
      "metadata": {
        "id": "gDQAtJ4r6ThA"
      },
      "source": [
        "### Broadcasting"
      ]
    },
    {
      "cell_type": "markdown",
      "metadata": {
        "id": "_gKNXQVO6aDZ"
      },
      "source": [
        "Broadcasting in numpy basically allows one to do operations between arrays of differing shapes. The rules behind broadcasting are somewhat complex (a good description can be found [here](https://scipy.github.io/old-wiki/pages/EricsBroadcastingDoc)). Here, we will just go over one useful instance of broadcasting:"
      ]
    },
    {
      "cell_type": "code",
      "metadata": {
        "id": "zIw_c9sr7FRz"
      },
      "source": [
        "A = np.arange(9).reshape(3, 3)\n",
        "print('Matrix A = ')\n",
        "print(A)\n",
        "v1 = np.arange(1, 4).reshape(1, 3)\n",
        "print('Vector v1 = ')\n",
        "print(v1)\n",
        "v2 = np.arange(1, 4).reshape(3, 1)\n",
        "print('Vector v2 = ')\n",
        "print(v2)\n",
        "\n",
        "# To multiply the first column by 1, the second row by 2, and the third row by 3...\n",
        "print('\\n A * v1 = ')\n",
        "print(A * v1)\n",
        "\n",
        "# To multiply the first row by 1, the second row by 2, and the third row by 3...\n",
        "print('\\n A * v2 = ')\n",
        "print(A * v2)"
      ],
      "execution_count": null,
      "outputs": []
    },
    {
      "cell_type": "markdown",
      "metadata": {
        "id": "j9hercBf3DBy"
      },
      "source": [
        "### Matrix Products\n"
      ]
    },
    {
      "cell_type": "markdown",
      "metadata": {
        "id": "FC92yhbyHFRa"
      },
      "source": [
        "If we want to do products between matrices or vectors, we can use the \\@ operator (or np.matmul)."
      ]
    },
    {
      "cell_type": "code",
      "metadata": {
        "id": "PN97OLdW4yGD"
      },
      "source": [
        "A = np.arange(9).reshape(3, 3)\n",
        "print('Matrix A = ')\n",
        "print(A)\n",
        "B = np.arange(9).reshape(3, 3) * -3 + 2\n",
        "print('Matrix B = ')\n",
        "print(B)\n",
        "v1 = np.arange(3).reshape(-1, 1)\n",
        "print('Vector v1 =')\n",
        "print(v1)\n",
        "v2 = np.arange(3).reshape(-1, 1) * 2 - 1\n",
        "print('Vector v2 =')\n",
        "print(v2)\n",
        "\n",
        "print('\\n Perform an outer product between vectors v1 and v2.')\n",
        "print(v1 @ v2.T)\n",
        "\n",
        "print('\\n Perform an inner product between v1 and v2.')\n",
        "print(v1.T @ v2)\n",
        "\n",
        "print('\\n Compute A v1 (matrix-vector product)')\n",
        "print(A @ v1)\n",
        "\n",
        "print('\\n Compute A B (matrix-matrix product)')\n",
        "print(A @ B)"
      ],
      "execution_count": null,
      "outputs": []
    },
    {
      "cell_type": "markdown",
      "metadata": {
        "id": "aGu6i4Ciezjb"
      },
      "source": [
        "### Exercises\n"
      ]
    },
    {
      "cell_type": "markdown",
      "metadata": {
        "id": "AzoqN_ZdcCO2"
      },
      "source": [
        "\n",
        "For each code block below, determine if the code is correct or not. If it is incorrect, fix it to produce the correct answer. You may need to work out the correct answer on paper to make sure you are doing it correctly."
      ]
    },
    {
      "cell_type": "markdown",
      "metadata": {
        "id": "ZaVQsRk6tqqE"
      },
      "source": [
        "$C = AB$"
      ]
    },
    {
      "cell_type": "code",
      "metadata": {
        "id": "twxWin8be1jI",
        "colab": {
          "base_uri": "https://localhost:8080/"
        },
        "outputId": "7369224f-1bec-421e-d217-56c462cb614d"
      },
      "source": [
        "# Fix the following code\n",
        "\n",
        "A = np.array([[3,5],\n",
        "              [7,11]])\n",
        "B = np.array([[1,2],\n",
        "              [3,4]])\n",
        "\n",
        "C = A @ B\n",
        "print(C)"
      ],
      "execution_count": null,
      "outputs": [
        {
          "output_type": "stream",
          "name": "stdout",
          "text": [
            "[[18 26]\n",
            " [40 58]]\n"
          ]
        }
      ]
    },
    {
      "cell_type": "markdown",
      "metadata": {
        "id": "4K5tr3ZvuLqR"
      },
      "source": [
        "$y = u^Tv$"
      ]
    },
    {
      "cell_type": "code",
      "metadata": {
        "id": "Amm3hVgXfdWL",
        "colab": {
          "base_uri": "https://localhost:8080/"
        },
        "outputId": "6f748a4d-b937-4631-9336-694f52cbcb0c"
      },
      "source": [
        "u = np.array([3,5,7]).reshape((3, 1))\n",
        "v = np.array([2,3,4]).reshape((3, 1))\n",
        "y = u.T @ v\n",
        "print(y)"
      ],
      "execution_count": null,
      "outputs": [
        {
          "output_type": "stream",
          "name": "stdout",
          "text": [
            "[[49]]\n"
          ]
        }
      ]
    },
    {
      "cell_type": "markdown",
      "metadata": {
        "id": "iFU6qCowu29q"
      },
      "source": [
        "$Y = uv^T$"
      ]
    },
    {
      "cell_type": "code",
      "metadata": {
        "id": "liLPvBF6u29r",
        "colab": {
          "base_uri": "https://localhost:8080/"
        },
        "outputId": "523d90ed-ced0-410d-c886-57e823d24582"
      },
      "source": [
        "u = np.array([3,5,7]).reshape(3, 1)\n",
        "v = np.array([2,3,4]).reshape(3, 1)\n",
        "Y = u @ v.T\n",
        "print(Y)"
      ],
      "execution_count": null,
      "outputs": [
        {
          "output_type": "stream",
          "name": "stdout",
          "text": [
            "[[ 6  9 12]\n",
            " [10 15 20]\n",
            " [14 21 28]]\n"
          ]
        }
      ]
    },
    {
      "cell_type": "markdown",
      "metadata": {
        "id": "BOC6OuTj1KSJ"
      },
      "source": [
        "## Numpy Functions"
      ]
    },
    {
      "cell_type": "markdown",
      "metadata": {
        "id": "cBiohdOML1QQ"
      },
      "source": [
        "Numpy provides several very useful functions such as np.sum, np.mean, np.std (computes the standard deviation), and np.max. By default, these quantities are computed over all elements, but we can use the \"axis\" keyword to compute only along certain dimensions.\n",
        "\n",
        "For example, if we have a 2d array, setting axis=0 will compute the quantities with respect to rows, and setting axis=1 will compute the quantities with respect to columns. Below are some examples of this:"
      ]
    },
    {
      "cell_type": "code",
      "metadata": {
        "id": "Lx4-n9qINtuQ",
        "colab": {
          "base_uri": "https://localhost:8080/"
        },
        "outputId": "6102c606-7f67-4e5f-f77f-6afe6b640a9d"
      },
      "source": [
        "A = np.arange(4).reshape(2, 2)\n",
        "print('The matrix A is: ')\n",
        "print(A)\n",
        "\n",
        "print('\\n Sum over all elements of A: ')\n",
        "print(np.sum(A))\n",
        "\n",
        "print('\\n Take mean over the rows of A: ')\n",
        "print(np.mean(A, axis=0))\n",
        "\n",
        "print('\\n Find max over columns of A: ')\n",
        "print(np.max(A, axis=1))\n",
        "\n",
        "print(np.mean(np.max(A, axis=1)))"
      ],
      "execution_count": null,
      "outputs": [
        {
          "output_type": "stream",
          "name": "stdout",
          "text": [
            "The matrix A is: \n",
            "[[0 1]\n",
            " [2 3]]\n",
            "\n",
            " Sum over all elements of A: \n",
            "6\n",
            "\n",
            " Take mean over the rows of A: \n",
            "[1. 2.]\n",
            "\n",
            " Find max over columns of A: \n",
            "[1 3]\n",
            "2.0\n"
          ]
        }
      ]
    },
    {
      "cell_type": "markdown",
      "metadata": {
        "id": "PJZTQD-Hj6u_"
      },
      "source": [
        "### Exercises"
      ]
    },
    {
      "cell_type": "markdown",
      "metadata": {
        "id": "RD7UmGTkj_R5"
      },
      "source": [
        "Suppose we have been recruited by the Tazza cafe (GHC 3rd Floor) to help them compute some statistics. They have measured how many cups of coffee were sold on each day of the week for 4 weeks and organized it into a matrix, $D$. The $(i, j)$ entry of $D$ is how many cups of coffee were sold on the $j^{th}$ day of the $i^{th}$ week."
      ]
    },
    {
      "cell_type": "code",
      "metadata": {
        "id": "s7eiHXOAmDPd"
      },
      "source": [
        "D = np.array([[ 2, 10, 18, 13,  4,  3, 19],\n",
        "              [10,  6, 13, 10,  1,  2, 17],\n",
        "              [ 6, 13, 13,  2,  9, 20, 19],\n",
        "              [18, 14, 18,  2,  4, 19, 24]])"
      ],
      "execution_count": null,
      "outputs": []
    },
    {
      "cell_type": "markdown",
      "metadata": {
        "id": "7WCk9h4ZmxTK"
      },
      "source": [
        "How many cups of coffee were sold in total during this time period?"
      ]
    },
    {
      "cell_type": "code",
      "metadata": {
        "id": "-WcAwXISoFbM"
      },
      "source": [
        "ans = ... # YOUR WORK HERE.\n",
        "\n",
        "assert ans == 309, 'Incorrect.'\n",
        "print('Correct!')"
      ],
      "execution_count": null,
      "outputs": []
    },
    {
      "cell_type": "markdown",
      "metadata": {
        "id": "4MVRvsqgm4Zl"
      },
      "source": [
        "Give a 1d vector that shows the average cups of coffee sold for each day."
      ]
    },
    {
      "cell_type": "code",
      "metadata": {
        "id": "gkI75NdlogN2"
      },
      "source": [
        "ans = ... # YOUR WORK HERE\n",
        "\n",
        "assert list(ans) == [9., 10.75, 15.5, 6.75, 4.5, 11., 19.75], 'Incorrect.'\n",
        "print('Correct!')"
      ],
      "execution_count": null,
      "outputs": []
    },
    {
      "cell_type": "markdown",
      "metadata": {
        "id": "J4v45ayAnswO"
      },
      "source": [
        "What was the most coffee sold in one week?"
      ]
    },
    {
      "cell_type": "code",
      "metadata": {
        "id": "NAR4BCddpFk0"
      },
      "source": [
        "ans = ... # YOUR WORK HERE\n",
        "\n",
        "assert ans == 99, 'Incorrect.'\n",
        "print('Correct!')"
      ],
      "execution_count": null,
      "outputs": []
    },
    {
      "cell_type": "markdown",
      "metadata": {
        "id": "vtLS5Lq81PLo"
      },
      "source": [
        "## Some Useful Linear Algebra Functions"
      ]
    },
    {
      "cell_type": "markdown",
      "metadata": {
        "id": "dxoj_fwbOLnu"
      },
      "source": [
        "Below I have listed some other numpy functions relating to linear algebra that might prove useful."
      ]
    },
    {
      "cell_type": "code",
      "metadata": {
        "id": "Lz2V0F0nOVtC"
      },
      "source": [
        "A = np.arange(4).reshape(2, 2)\n",
        "print('The matrix A is: ')\n",
        "print(A)\n",
        "y = np.arange(2).reshape(-1, 1)\n",
        "print('The vector y is: ')\n",
        "print(y)\n",
        "\n",
        "print('\\n We can solve the linear system Ax=y. x = ...')\n",
        "print(np.linalg.solve(A, y))\n",
        "\n",
        "print('\\n We can compute the inverse of A. A^-1 = ')\n",
        "print(np.linalg.inv(A))\n",
        "\n",
        "print('\\n We can compute the determinant of A. det(A) =')\n",
        "print(np.linalg.det(A))"
      ],
      "execution_count": null,
      "outputs": []
    },
    {
      "cell_type": "markdown",
      "metadata": {
        "id": "C53_eTXLJmbi"
      },
      "source": [
        "### Exercise"
      ]
    },
    {
      "cell_type": "markdown",
      "metadata": {
        "id": "os_W76eTrReL"
      },
      "source": [
        "Tazza cafe wants more help from us. For the last three months they have recorded how much coffee, paninis, and oat milk matcha lattes they have sold and the total profits. However, they have somehow lost the menu and forgot how much they charge for each. They have the following information:\n",
        "\n",
        "<table>\n",
        "<tr>\n",
        "<th>Month</th>\n",
        "<th>Coffee Sold</th>\n",
        "<th>Paninis Sold</th>\n",
        "<th>Oat Milk Match Lattes Sold</th>\n",
        "<th>Money Made</th>\n",
        "</tr>\n",
        "<tr>\n",
        "<td>1</td>\n",
        "<td>15</td>\n",
        "<td>3</td>\n",
        "<td>1</td>\n",
        "<td>100</td>\n",
        "</tr>\n",
        "<tr>\n",
        "<td>2</td>\n",
        "<td>25</td>\n",
        "<td>3</td>\n",
        "<td>0</td>\n",
        "<td>150</td>\n",
        "</tr>\n",
        "<tr>\n",
        "<td>3</td>\n",
        "<td>10</td>\n",
        "<td>5</td>\n",
        "<td>2</td>\n",
        "<td>200</td>\n",
        "</tr>\n",
        "</table>\n",
        "\n",
        "Using numpy, how much does each item cost?"
      ]
    },
    {
      "cell_type": "code",
      "metadata": {
        "id": "ac_9tFIzJkq7"
      },
      "source": [
        "costs = ... # YOUR WORK HERE\n",
        "\n",
        "assert np.sum(np.abs(costs.flatten() - np.array([5., 12., 8.]))) < 1e-6, 'Incorrect.'\n",
        "print('Success!')"
      ],
      "execution_count": null,
      "outputs": []
    },
    {
      "cell_type": "markdown",
      "metadata": {
        "id": "rS_cw3F6AzJ8"
      },
      "source": [
        "Tazza cafe has made several projections for how much of each item they think they will sell in the next coming months (stored as the matrix \"projections\" below). Help Tazza calculate how much money they can expect to make for each of these months."
      ]
    },
    {
      "cell_type": "code",
      "metadata": {
        "id": "w-zhltYdBUoI"
      },
      "source": [
        "projections = np.array([[20, 5, 16],\n",
        "                        [25, 4, 19],\n",
        "                        [4, 3, 10],\n",
        "                        [1, 1, 1000]])\n",
        "answer = ... # YOUR WORK HERE.\n",
        "\n",
        "assert np.sum(np.abs(answer.flatten() - np.array([288., 325., 136., 8017.]))) < 1e-6, 'Incorrect.'\n",
        "print('Success!')"
      ],
      "execution_count": null,
      "outputs": []
    }
  ]
}